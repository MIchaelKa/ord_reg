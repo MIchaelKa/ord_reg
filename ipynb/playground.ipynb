{
 "cells": [
  {
   "cell_type": "code",
   "execution_count": 1,
   "id": "recognized-labor",
   "metadata": {},
   "outputs": [],
   "source": [
    "import torch"
   ]
  },
  {
   "cell_type": "code",
   "execution_count": 53,
   "id": "economic-colors",
   "metadata": {},
   "outputs": [],
   "source": [
    "import numpy as np\n",
    "import random\n",
    "import os\n",
    "import torch\n",
    "\n",
    "def seed_everything(seed):\n",
    "    random.seed(seed)\n",
    "    os.environ['PYTHONHASHSEED'] = str(seed)\n",
    "    np.random.seed(seed)\n",
    "    torch.manual_seed(seed)\n",
    "    torch.cuda.manual_seed(seed)\n",
    "    torch.backends.cudnn.deterministic = True\n",
    "    torch.backends.cudnn.benchmark = True"
   ]
  },
  {
   "cell_type": "code",
   "execution_count": 64,
   "id": "continuous-finnish",
   "metadata": {},
   "outputs": [],
   "source": [
    "class CoralLayer(torch.nn.Module):\n",
    "    '''\n",
    "    Implements CORAL layer.\n",
    "    Look at arxiv paper for more details: https://arxiv.org/abs/1901.07884\n",
    "    This class is an adapted version from\n",
    "    https://github.com/Raschka-research-group/coral-pytorch\n",
    "    \n",
    "    Parameters:\n",
    "    - in_features: int\n",
    "        Number of features for the inputs to the forward method, which\n",
    "        are expected to have shape (num_examples, in_features).\n",
    "\n",
    "    - out_dim: int\n",
    "        Number of bins, it equals to the (num_classes - 1).\n",
    "\n",
    "    - preinit_bias: bool (default=True)\n",
    "        If true, it will pre-initialize the biases to descending values in\n",
    "        [0, 1] range instead of initializing it to all zeros. This pre-\n",
    "        initialization scheme results in faster learning and better\n",
    "        generalization performance in practice.\n",
    "    '''\n",
    "\n",
    "    def __init__(self, in_features, out_dim, preinit_bias=True):\n",
    "        super().__init__()\n",
    "        \n",
    "        self.coral_weights = torch.nn.Linear(in_features, 1, bias=False)\n",
    "        \n",
    "        if preinit_bias:\n",
    "            coral_bias = torch.arange(out_dim, 0, -1).float() / out_dim\n",
    "        else:\n",
    "            coral_bias = torch.zeros(out_dim).float()\n",
    "        \n",
    "        self.coral_bias = torch.nn.Parameter(coral_bias)\n",
    "\n",
    "    def forward(self, x):\n",
    "        return self.coral_weights(x) + self.coral_bias"
   ]
  },
  {
   "cell_type": "code",
   "execution_count": 65,
   "id": "public-suggestion",
   "metadata": {},
   "outputs": [],
   "source": [
    "size_in = 128\n",
    "num_classes = 10\n",
    "\n",
    "out_dim = 9\n",
    "\n",
    "seed_everything(42)\n",
    "\n",
    "coral = CoralLayer(size_in, out_dim)"
   ]
  },
  {
   "cell_type": "code",
   "execution_count": 66,
   "id": "narrow-christianity",
   "metadata": {},
   "outputs": [
    {
     "data": {
      "text/plain": [
       "torch.Size([5, 128])"
      ]
     },
     "execution_count": 66,
     "metadata": {},
     "output_type": "execute_result"
    }
   ],
   "source": [
    "x = torch.rand(5, 128)\n",
    "x.shape"
   ]
  },
  {
   "cell_type": "code",
   "execution_count": 67,
   "id": "brutal-polymer",
   "metadata": {},
   "outputs": [
    {
     "data": {
      "text/plain": [
       "torch.Size([5, 9])"
      ]
     },
     "execution_count": 67,
     "metadata": {},
     "output_type": "execute_result"
    }
   ],
   "source": [
    "out = coral(x)\n",
    "out.shape"
   ]
  },
  {
   "cell_type": "code",
   "execution_count": 68,
   "id": "detected-italic",
   "metadata": {},
   "outputs": [
    {
     "data": {
      "text/plain": [
       "Parameter containing:\n",
       "tensor([1.0000, 0.8889, 0.7778, 0.6667, 0.5556, 0.4444, 0.3333, 0.2222, 0.1111],\n",
       "       requires_grad=True)"
      ]
     },
     "execution_count": 68,
     "metadata": {},
     "output_type": "execute_result"
    }
   ],
   "source": [
    "coral.coral_bias"
   ]
  },
  {
   "cell_type": "code",
   "execution_count": 69,
   "id": "provincial-processing",
   "metadata": {},
   "outputs": [
    {
     "data": {
      "text/plain": [
       "tensor([[ 0.5753,  0.4642,  0.3531,  0.2420,  0.1309,  0.0198, -0.0913, -0.2024,\n",
       "         -0.3136],\n",
       "        [ 0.4229,  0.3118,  0.2007,  0.0896, -0.0215, -0.1326, -0.2437, -0.3548,\n",
       "         -0.4660],\n",
       "        [ 0.6500,  0.5388,  0.4277,  0.3166,  0.2055,  0.0944, -0.0167, -0.1278,\n",
       "         -0.2389],\n",
       "        [ 0.8418,  0.7307,  0.6196,  0.5085,  0.3974,  0.2863,  0.1752,  0.0641,\n",
       "         -0.0470],\n",
       "        [ 0.6750,  0.5639,  0.4528,  0.3417,  0.2306,  0.1194,  0.0083, -0.1028,\n",
       "         -0.2139]], grad_fn=<AddBackward0>)"
      ]
     },
     "execution_count": 69,
     "metadata": {},
     "output_type": "execute_result"
    }
   ],
   "source": [
    "out"
   ]
  },
  {
   "cell_type": "code",
   "execution_count": 63,
   "id": "temporal-heading",
   "metadata": {},
   "outputs": [
    {
     "data": {
      "text/plain": [
       "tensor([[ 0.5753,  0.4642,  0.3531,  0.2420,  0.1309,  0.0198, -0.0913, -0.2024,\n",
       "         -0.3136],\n",
       "        [ 0.4229,  0.3118,  0.2007,  0.0896, -0.0215, -0.1326, -0.2437, -0.3548,\n",
       "         -0.4660],\n",
       "        [ 0.6500,  0.5388,  0.4277,  0.3166,  0.2055,  0.0944, -0.0167, -0.1278,\n",
       "         -0.2389],\n",
       "        [ 0.8418,  0.7307,  0.6196,  0.5085,  0.3974,  0.2863,  0.1752,  0.0641,\n",
       "         -0.0470],\n",
       "        [ 0.6750,  0.5639,  0.4528,  0.3417,  0.2306,  0.1194,  0.0083, -0.1028,\n",
       "         -0.2139]], grad_fn=<AddBackward0>)"
      ]
     },
     "execution_count": 63,
     "metadata": {},
     "output_type": "execute_result"
    }
   ],
   "source": [
    "out"
   ]
  },
  {
   "cell_type": "code",
   "execution_count": 15,
   "id": "swiss-arrest",
   "metadata": {},
   "outputs": [],
   "source": [
    "levels = torch.rand(5, 9)"
   ]
  },
  {
   "cell_type": "code",
   "execution_count": 18,
   "id": "breeding-retirement",
   "metadata": {},
   "outputs": [],
   "source": [
    "import torch.nn.functional as F"
   ]
  },
  {
   "cell_type": "code",
   "execution_count": 28,
   "id": "searching-jewelry",
   "metadata": {},
   "outputs": [],
   "source": [
    "criterion = torch.nn.BCEWithLogitsLoss()"
   ]
  },
  {
   "cell_type": "code",
   "execution_count": 13,
   "id": "disturbed-words",
   "metadata": {},
   "outputs": [],
   "source": [
    "def coral_loss(logits, levels, importance_weights=None, reduction='mean'):\n",
    "    \n",
    "    if not logits.shape == levels.shape:\n",
    "        raise ValueError(\"Please ensure that logits (%s) has the same shape as levels (%s). \"\n",
    "                         % (logits.shape, levels.shape))\n",
    "\n",
    "    term1 = F.logsigmoid(logits)*levels + (F.logsigmoid(logits) - logits)*(1-levels)\n",
    "\n",
    "    if importance_weights is not None:\n",
    "        term1 *= importance_weights\n",
    "\n",
    "    val = (-torch.sum(term1, dim=1))\n",
    "\n",
    "    if reduction == 'mean':\n",
    "        loss = torch.mean(val)\n",
    "    elif reduction == 'sum':\n",
    "        loss = torch.sum(val)\n",
    "    elif reduction is None:\n",
    "        loss = val\n",
    "    else:\n",
    "        s = ('Invalid value for `reduction`. Should be \"mean\", '\n",
    "             '\"sum\", or None. Got %s' % reduction)\n",
    "        raise ValueError(s)\n",
    "\n",
    "    return loss"
   ]
  },
  {
   "cell_type": "code",
   "execution_count": 39,
   "id": "inner-anxiety",
   "metadata": {},
   "outputs": [],
   "source": [
    "def my_bce(x, y):\n",
    "    \n",
    "    sigmoid = torch.sigmoid(x)\n",
    "   \n",
    "    \n",
    "    loss = y*torch.log(sigmoid) + (1 - y)*torch.log(1 - sigmoid)\n",
    "    \n",
    "    print(loss.shape)\n",
    "    \n",
    "#     loss = (-torch.sum(loss, dim=1))\n",
    "    \n",
    "    print(loss.shape)\n",
    "    \n",
    "    loss = torch.mean(loss)\n",
    "    \n",
    "    return loss"
   ]
  },
  {
   "cell_type": "code",
   "execution_count": 40,
   "id": "stone-share",
   "metadata": {},
   "outputs": [
    {
     "name": "stdout",
     "output_type": "stream",
     "text": [
      "torch.Size([5, 9])\n",
      "torch.Size([5, 9])\n"
     ]
    },
    {
     "data": {
      "text/plain": [
       "tensor(-0.7110, grad_fn=<MeanBackward0>)"
      ]
     },
     "execution_count": 40,
     "metadata": {},
     "output_type": "execute_result"
    }
   ],
   "source": [
    "my_bce(out, levels)"
   ]
  },
  {
   "cell_type": "code",
   "execution_count": 41,
   "id": "immediate-leonard",
   "metadata": {},
   "outputs": [
    {
     "data": {
      "text/plain": [
       "tensor(0.7110, grad_fn=<BinaryCrossEntropyWithLogitsBackward>)"
      ]
     },
     "execution_count": 41,
     "metadata": {},
     "output_type": "execute_result"
    }
   ],
   "source": [
    "criterion(out, levels)"
   ]
  },
  {
   "cell_type": "code",
   "execution_count": 21,
   "id": "micro-sleeve",
   "metadata": {},
   "outputs": [
    {
     "data": {
      "text/plain": [
       "tensor(6.3988, grad_fn=<MeanBackward0>)"
      ]
     },
     "execution_count": 21,
     "metadata": {},
     "output_type": "execute_result"
    }
   ],
   "source": [
    "coral_loss(out, levels)"
   ]
  },
  {
   "cell_type": "markdown",
   "id": "afraid-enclosure",
   "metadata": {},
   "source": [
    "# Detect inconsistency"
   ]
  },
  {
   "cell_type": "code",
   "execution_count": 74,
   "id": "center-receipt",
   "metadata": {},
   "outputs": [
    {
     "data": {
      "text/plain": [
       "array([ True, False,  True])"
      ]
     },
     "execution_count": 74,
     "metadata": {},
     "output_type": "execute_result"
    }
   ],
   "source": [
    "a = np.array([0.876, 0.345, 0.234, 0.1234])\n",
    "a = np.array([0.876, 0.234, 0.345, 0.1234])\n",
    "\n",
    "(a[:-1] - a[1:]) < 0"
   ]
  },
  {
   "cell_type": "code",
   "execution_count": 84,
   "id": "studied-cycling",
   "metadata": {},
   "outputs": [
    {
     "name": "stdout",
     "output_type": "stream",
     "text": [
      "(3, 4)\n"
     ]
    },
    {
     "data": {
      "text/plain": [
       "array([0, 1, 3])"
      ]
     },
     "execution_count": 84,
     "metadata": {},
     "output_type": "execute_result"
    }
   ],
   "source": [
    "a = np.array([\n",
    "    [0.876, 0.345, 0.234, 0.1234],\n",
    "    [0.876, 0.234, 0.345, 0.1234],\n",
    "    [0.176, 0.234, 0.345, 0.8234]\n",
    "])\n",
    "print(a.shape)\n",
    "\n",
    "\n",
    "# (a[:-1] - a[1:]) < 0\n",
    "(((a[:, :-1] - a[:, 1:]) < 0).sum(1) > 0) * 1\n",
    "((a[:, :-1] - a[:, 1:]) < 0).sum(1)"
   ]
  },
  {
   "cell_type": "markdown",
   "id": "quiet-viewer",
   "metadata": {},
   "source": [
    "# Calculate preds"
   ]
  },
  {
   "cell_type": "code",
   "execution_count": 113,
   "id": "secure-prior",
   "metadata": {},
   "outputs": [
    {
     "data": {
      "text/plain": [
       "tensor([[ 0.2317,  0.4771, -0.2029, -0.0864,  0.1893],\n",
       "        [-0.0826, -0.0981, -0.4133,  0.1343, -0.3022],\n",
       "        [ 0.0182,  0.4875, -0.1539, -0.1576,  0.3017]])"
      ]
     },
     "execution_count": 113,
     "metadata": {},
     "output_type": "execute_result"
    }
   ],
   "source": [
    "outputs = torch.rand(3,5) - 0.5\n",
    "outputs"
   ]
  },
  {
   "cell_type": "code",
   "execution_count": 114,
   "id": "heated-happiness",
   "metadata": {},
   "outputs": [
    {
     "data": {
      "text/plain": [
       "tensor([[0.5577, 0.6171, 0.4494, 0.4784, 0.5472],\n",
       "        [0.4794, 0.4755, 0.3981, 0.5335, 0.4250],\n",
       "        [0.5045, 0.6195, 0.4616, 0.4607, 0.5748]])"
      ]
     },
     "execution_count": 114,
     "metadata": {},
     "output_type": "execute_result"
    }
   ],
   "source": [
    "y_prob = outputs.sigmoid()\n",
    "y_prob"
   ]
  },
  {
   "cell_type": "code",
   "execution_count": 93,
   "id": "inappropriate-commons",
   "metadata": {},
   "outputs": [
    {
     "data": {
      "text/plain": [
       "tensor([3., 2., 3.])"
      ]
     },
     "execution_count": 93,
     "metadata": {},
     "output_type": "execute_result"
    }
   ],
   "source": [
    "y_pred = y_prob.sum(1).round()\n",
    "y_pred"
   ]
  },
  {
   "cell_type": "code",
   "execution_count": 94,
   "id": "sustainable-russia",
   "metadata": {},
   "outputs": [
    {
     "data": {
      "text/plain": [
       "tensor([3., 4., 2.])"
      ]
     },
     "execution_count": 94,
     "metadata": {},
     "output_type": "execute_result"
    }
   ],
   "source": [
    "y_pred = y_prob.round().sum(1)\n",
    "y_pred"
   ]
  },
  {
   "cell_type": "code",
   "execution_count": 99,
   "id": "detailed-positive",
   "metadata": {},
   "outputs": [
    {
     "data": {
      "text/plain": [
       "tensor([3, 4, 2])"
      ]
     },
     "execution_count": 99,
     "metadata": {},
     "output_type": "execute_result"
    }
   ],
   "source": [
    "y_pred = (outputs>0).sum(1)\n",
    "y_pred"
   ]
  },
  {
   "cell_type": "code",
   "execution_count": 115,
   "id": "indonesian-magnitude",
   "metadata": {},
   "outputs": [
    {
     "data": {
      "text/plain": [
       "tensor([[ True,  True, False, False,  True],\n",
       "        [False, False, False,  True, False],\n",
       "        [ True,  True, False, False,  True]])"
      ]
     },
     "execution_count": 115,
     "metadata": {},
     "output_type": "execute_result"
    }
   ],
   "source": [
    "y_pred = (y_prob>0.5)\n",
    "y_pred"
   ]
  },
  {
   "cell_type": "code",
   "execution_count": 116,
   "id": "alternate-commonwealth",
   "metadata": {},
   "outputs": [
    {
     "data": {
      "text/plain": [
       "tensor([2, 0, 2])"
      ]
     },
     "execution_count": 116,
     "metadata": {},
     "output_type": "execute_result"
    }
   ],
   "source": [
    "(y_prob > 0.5).cumprod(axis=1).sum(1)"
   ]
  },
  {
   "cell_type": "code",
   "execution_count": 117,
   "id": "sensitive-sharing",
   "metadata": {},
   "outputs": [
    {
     "data": {
      "text/plain": [
       "tensor([3, 1, 3])"
      ]
     },
     "execution_count": 117,
     "metadata": {},
     "output_type": "execute_result"
    }
   ],
   "source": [
    "y_pred = (y_prob>0.5).sum(1)\n",
    "y_pred"
   ]
  },
  {
   "cell_type": "code",
   "execution_count": 100,
   "id": "invalid-dimension",
   "metadata": {},
   "outputs": [
    {
     "data": {
      "text/plain": [
       "tensor([[0.4691, 0.4518, 0.6105, 0.5658, 0.6110],\n",
       "        [0.5004, 0.5252, 0.5432, 0.3838, 0.5112],\n",
       "        [0.4916, 0.4304, 0.4042, 0.6089, 0.6003]])"
      ]
     },
     "execution_count": 100,
     "metadata": {},
     "output_type": "execute_result"
    }
   ],
   "source": [
    "y_prob"
   ]
  },
  {
   "cell_type": "code",
   "execution_count": 103,
   "id": "sunset-richards",
   "metadata": {},
   "outputs": [
    {
     "data": {
      "text/plain": [
       "tensor([2, 3])"
      ]
     },
     "execution_count": 103,
     "metadata": {},
     "output_type": "execute_result"
    }
   ],
   "source": [
    "torch.tensor([2,3])"
   ]
  },
  {
   "cell_type": "code",
   "execution_count": 106,
   "id": "royal-change",
   "metadata": {},
   "outputs": [
    {
     "data": {
      "text/plain": [
       "tensor([0.2500, 0.5000, 0.7500, 1.0000])"
      ]
     },
     "execution_count": 106,
     "metadata": {},
     "output_type": "execute_result"
    }
   ],
   "source": [
    "out_features = 4\n",
    "torch.arange(1, out_features+1, 1).float() / out_features\n",
    "\n",
    "tensor([0.1, 0.25, 0.9, 1.09])"
   ]
  },
  {
   "cell_type": "code",
   "execution_count": null,
   "id": "polished-painting",
   "metadata": {},
   "outputs": [],
   "source": []
  }
 ],
 "metadata": {
  "kernelspec": {
   "display_name": "Python 3",
   "language": "python",
   "name": "python3"
  },
  "language_info": {
   "codemirror_mode": {
    "name": "ipython",
    "version": 3
   },
   "file_extension": ".py",
   "mimetype": "text/x-python",
   "name": "python",
   "nbconvert_exporter": "python",
   "pygments_lexer": "ipython3",
   "version": "3.8.2"
  }
 },
 "nbformat": 4,
 "nbformat_minor": 5
}
