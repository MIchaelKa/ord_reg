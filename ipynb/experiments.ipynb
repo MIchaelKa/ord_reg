{
 "cells": [
  {
   "cell_type": "code",
   "execution_count": 1,
   "id": "opened-denial",
   "metadata": {},
   "outputs": [],
   "source": [
    "import os"
   ]
  },
  {
   "cell_type": "code",
   "execution_count": 2,
   "id": "separate-shareware",
   "metadata": {},
   "outputs": [],
   "source": [
    "BASE_PATH = '../ord_reg'\n",
    "os.chdir(BASE_PATH)"
   ]
  },
  {
   "cell_type": "code",
   "execution_count": 3,
   "id": "ideal-wheat",
   "metadata": {},
   "outputs": [
    {
     "name": "stdout",
     "output_type": "stream",
     "text": [
      "/Users/michaelka/Developer/ml/projects/ord_reg/ord_reg\r\n"
     ]
    }
   ],
   "source": [
    "!pwd"
   ]
  },
  {
   "cell_type": "code",
   "execution_count": 45,
   "id": "beginning-tattoo",
   "metadata": {},
   "outputs": [],
   "source": [
    "model.model_name=resnet18, efficientnet_b0, resnet18d, resnest14d, seresnet50\n",
    "\n",
    "train.num_epochs=3\n",
    "save_checkpoint=true\n",
    "\n",
    "optimizer=sgd\n",
    "optimizer.lr=7e-5\n",
    "optimizer.lr=1e-4\n",
    "optimizer.lr=3e-4\n",
    "optimizer.lr=1e-3\n",
    "\n",
    "optimizer.weight_decay=1e-6\n",
    "\n",
    "train.batch_size_train=16\n",
    "    \n",
    "# scheduler.milestones=[1]\n",
    "scheduler.gamma=0.2\n",
    "    \n",
    "+experiment=baseline\n",
    "+experiment=label_bin\n",
    "+experiment=coral"
   ]
  },
  {
   "cell_type": "code",
   "execution_count": null,
   "id": "promising-struggle",
   "metadata": {},
   "outputs": [],
   "source": [
    "python main.py +experiment=label_bin model.model_name=resnest14d optimizer.lr=3e-4"
   ]
  },
  {
   "cell_type": "code",
   "execution_count": null,
   "id": "collect-dryer",
   "metadata": {},
   "outputs": [],
   "source": [
    "python main.py +experiment=baseline train.num_epochs=5 train.batch_size_train=128 save_checkpoint=true seed=1"
   ]
  },
  {
   "cell_type": "code",
   "execution_count": 94,
   "id": "million-andrews",
   "metadata": {},
   "outputs": [],
   "source": [
    "# !python main.py +experiment=baseline model.encoder.model_name=resnet18d"
   ]
  },
  {
   "cell_type": "code",
   "execution_count": null,
   "id": "french-neutral",
   "metadata": {},
   "outputs": [],
   "source": []
  },
  {
   "cell_type": "code",
   "execution_count": null,
   "id": "oriental-exploration",
   "metadata": {},
   "outputs": [],
   "source": [
    "bs_resnet18_lr_0.0001 acc = 0.49250, qwk = 0.41622\n",
    "lb_resnest14d_lr_0.0003 acc = 0.46500, qwk = 0.53138"
   ]
  },
  {
   "cell_type": "code",
   "execution_count": 96,
   "id": "suffering-collar",
   "metadata": {},
   "outputs": [],
   "source": [
    "import numpy as np"
   ]
  },
  {
   "cell_type": "markdown",
   "id": "promising-january",
   "metadata": {},
   "source": [
    "## baseline"
   ]
  },
  {
   "cell_type": "code",
   "execution_count": null,
   "id": "impressed-stuff",
   "metadata": {},
   "outputs": [],
   "source": [
    "python main.py +experiment=baseline model.encoder.model_name=resnest14d save_checkpoint=true seed=1"
   ]
  },
  {
   "cell_type": "code",
   "execution_count": null,
   "id": "removable-center",
   "metadata": {},
   "outputs": [],
   "source": [
    "python main.py +experiment=baseline optimizer.lr=3e-4 save_checkpoint=true seed=1\n",
    "\n",
    "1: acc = 0.52500, qwk = 0.55848\n",
    "2: acc = 0.52000, qwk = 0.54460\n",
    "3: acc = 0.49250, qwk = 0.50847\n",
    "\n",
    "1: Inconsistency in predictions: 385/400\n",
    "2: Inconsistency in predictions: 392/400\n",
    "3: Inconsistency in predictions: 389/400"
   ]
  },
  {
   "cell_type": "code",
   "execution_count": null,
   "id": "choice-investigation",
   "metadata": {},
   "outputs": [],
   "source": [
    "python main.py +experiment=baseline train.batch_size_train=128 save_checkpoint=true seed=1\n",
    "bs_resnet18_lr:0.0001_bs:128\n",
    "\n",
    "1: acc = 0.48000, qwk = 0.52252\n",
    "2: acc = 0.46000, qwk = 0.50215\n",
    "3: acc = 0.50250, qwk = 0.47231"
   ]
  },
  {
   "cell_type": "code",
   "execution_count": null,
   "id": "innocent-commerce",
   "metadata": {},
   "outputs": [],
   "source": [
    "Inconsistency in predictions: 395/400, total: 765"
   ]
  },
  {
   "cell_type": "code",
   "execution_count": 116,
   "id": "regional-macro",
   "metadata": {},
   "outputs": [
    {
     "data": {
      "text/plain": [
       "0.49899333333333334"
      ]
     },
     "execution_count": 116,
     "metadata": {},
     "output_type": "execute_result"
    }
   ],
   "source": [
    "np.mean([0.52252, 0.50215, 0.47231])"
   ]
  },
  {
   "cell_type": "code",
   "execution_count": null,
   "id": "posted-layout",
   "metadata": {},
   "outputs": [],
   "source": [
    "python main.py +experiment=baseline model.encoder.model_name=resnet18d train.batch_size_train=32 optimizer.lr=1e-4 save_checkpoint=true seed=1\n",
    "bs_resnet18d_lr:0.0001_bs:32\n",
    "        \n",
    "1: acc = 0.45750, qwk = 0.40524\n",
    "2: acc = 0.45250, qwk = 0.40233\n",
    "3: acc = 0.46500, qwk = 0.34887\n"
   ]
  },
  {
   "cell_type": "code",
   "execution_count": null,
   "id": "distributed-sharing",
   "metadata": {},
   "outputs": [],
   "source": [
    "python main.py +experiment=baseline model.encoder.model_name=resnet18d train.batch_size_train=32 optimizer.lr=3e-4 save_checkpoint=true seed=1\n",
    "bs_resnet18d_lr:0.0003_bs:32\n",
    "        \n",
    "1: acc = 0.49250, qwk = 0.50046\n",
    "2: acc = 0.47750, qwk = 0.35084\n",
    "3: acc = 0.49250, qwk = 0.35841"
   ]
  },
  {
   "cell_type": "code",
   "execution_count": null,
   "id": "confused-optics",
   "metadata": {},
   "outputs": [],
   "source": [
    "python main.py +experiment=baseline model.encoder.model_name=resnet18d train.batch_size_train=128 optimizer.lr=1e-4 save_checkpoint=true seed=1\n",
    "bs_resnet18d_lr:0.0001_bs:128\n",
    "        \n",
    "1: acc = 0.40500, qwk = 0.25682\n",
    "2: acc = 0.43500, qwk = 0.31251"
   ]
  },
  {
   "cell_type": "code",
   "execution_count": null,
   "id": "drawn-jersey",
   "metadata": {},
   "outputs": [],
   "source": [
    "python main.py +experiment=baseline model.encoder.model_name=efficientnet_b0 train.batch_size_train=128 optimizer.lr=1e-4 save_checkpoint=true seed=1\n",
    "bs_efficientnet_b0_lr:0.0001_bs:128\n"
   ]
  },
  {
   "cell_type": "markdown",
   "id": "allied-wiring",
   "metadata": {},
   "source": [
    "## label_bin"
   ]
  },
  {
   "cell_type": "code",
   "execution_count": null,
   "id": "forward-thunder",
   "metadata": {},
   "outputs": [],
   "source": [
    "python main.py +experiment=label_bin save_checkpoint=true seed=1"
   ]
  },
  {
   "cell_type": "code",
   "execution_count": null,
   "id": "narrow-stopping",
   "metadata": {},
   "outputs": [],
   "source": [
    "python main.py +experiment=label_bin optimizer.lr=3e-4 save_checkpoint=true seed=1\n",
    "y_pred = (outputs > 0).sum(1)\n",
    "\n",
    "acc = 0.46500, qwk = 0.54456\n",
    "acc = 0.49500, qwk = 0.54620\n",
    "acc = 0.48250, qwk = 0.47670\n",
    "\n",
    "Inconsistency in predictions: 41/400\n",
    "Inconsistency in predictions: 254/400\n",
    "Inconsistency in predictions: 147/400"
   ]
  },
  {
   "cell_type": "code",
   "execution_count": null,
   "id": "surrounded-standing",
   "metadata": {},
   "outputs": [],
   "source": [
    "python main.py +experiment=label_bin train.batch_size_train=128 save_checkpoint=true seed=1\n",
    "lb_resnet18_lr:0.0001_bs:128\n",
    "        \n",
    "1: acc = 0.44750, qwk = 0.49567\n",
    "2: acc = 0.41500, qwk = 0.52916\n",
    " [90 48 27  9  0]\n",
    " [ 8 13 21  4  0]\n",
    " [ 7 27 39 19  0]\n",
    " [ 2  7 35 24  0]\n",
    " [ 1  5  6  8  0]\n",
    "# it's hard to have something in the last col\n",
    "\n",
    "3: acc = 0.45750, qwk = 0.50466\n",
    "\n",
    "\n",
    "Inconsistency in predictions: 186/400, total: 282\n",
    "Inconsistency in predictions: 232/400, total: 281"
   ]
  },
  {
   "cell_type": "code",
   "execution_count": null,
   "id": "recorded-blues",
   "metadata": {},
   "outputs": [],
   "source": [
    "y_pred = (outputs > 0).sum(1)\n",
    "\n",
    "1: acc = 0.51000, qwk = 0.55381\n",
    "2: acc = 0.47750, qwk = 0.54938\n",
    "3: acc = 0.51250, qwk = 0.58397"
   ]
  },
  {
   "cell_type": "code",
   "execution_count": 100,
   "id": "bizarre-viewer",
   "metadata": {},
   "outputs": [
    {
     "data": {
      "text/plain": [
       "0.5623866666666667"
      ]
     },
     "execution_count": 100,
     "metadata": {},
     "output_type": "execute_result"
    }
   ],
   "source": [
    "np.mean([0.55381, 0.54938, 0.58397])"
   ]
  },
  {
   "cell_type": "code",
   "execution_count": null,
   "id": "adult-lebanon",
   "metadata": {},
   "outputs": [],
   "source": [
    "python main.py +experiment=label_bin save_checkpoint=true"
   ]
  },
  {
   "cell_type": "markdown",
   "id": "former-vehicle",
   "metadata": {},
   "source": [
    "# coral"
   ]
  },
  {
   "cell_type": "code",
   "execution_count": null,
   "id": "frozen-stuart",
   "metadata": {},
   "outputs": [],
   "source": [
    "python main.py +experiment=coral save_checkpoint=true seed=1"
   ]
  },
  {
   "cell_type": "code",
   "execution_count": null,
   "id": "immediate-police",
   "metadata": {},
   "outputs": [],
   "source": [
    "python main.py +experiment=coral optimizer.lr=3e-4 save_checkpoint=true seed=1\n",
    "\n",
    "1: acc = 0.40500, qwk = 0.44044\n",
    "2: acc = 0.47250, qwk = 0.50362\n",
    "\n",
    "y_pred = (outputs > 0).sum(1)\n",
    "1: acc = 0.42500, qwk = 0.32534\n",
    "2: acc = 0.42500, qwk = 0.46797"
   ]
  },
  {
   "cell_type": "code",
   "execution_count": null,
   "id": "geological-hamilton",
   "metadata": {},
   "outputs": [],
   "source": [
    "python main.py +experiment=coral train.batch_size_train=128 save_checkpoint=true seed=1\n",
    "cr_resnet18_lr:0.0001_bs:128\n",
    "        \n",
    "1: acc = 0.42250, qwk = 0.52879\n",
    "2: acc = 0.45000, qwk = 0.56074\n",
    "3: acc = 0.46250, qwk = 0.51352"
   ]
  },
  {
   "cell_type": "code",
   "execution_count": 99,
   "id": "seven-syndrome",
   "metadata": {},
   "outputs": [
    {
     "data": {
      "text/plain": [
       "0.53435"
      ]
     },
     "execution_count": 99,
     "metadata": {},
     "output_type": "execute_result"
    }
   ],
   "source": [
    "np.mean([0.52879, 0.56074, 0.51352])"
   ]
  },
  {
   "cell_type": "code",
   "execution_count": null,
   "id": "laughing-stick",
   "metadata": {},
   "outputs": [],
   "source": [
    "y_pred = (outputs > 0).sum(1)\n",
    "\n",
    "1: acc = 0.40750, qwk = 0.49566\n",
    " [129   9  13   7  16]\n",
    " [ 13   3  11  12   7]\n",
    " [ 20  11  12  15  34]\n",
    " [  6   5   5  11  41]\n",
    " [  3   2   5   2   8]\n",
    "# predict more higher grades\n",
    "\n",
    "acc = 0.45500, qwk = 0.48814\n",
    "acc = 0.44750, qwk = 0.37769"
   ]
  },
  {
   "cell_type": "code",
   "execution_count": null,
   "id": "rough-phrase",
   "metadata": {},
   "outputs": [],
   "source": [
    "CoralLoss\n",
    "y_pred = y_prob.sum(1).round()\n",
    "\n",
    "acc = 0.41000, qwk = 0.54560\n",
    "acc = 0.47000, qwk = 0.56800\n",
    "acc = 0.44750, qwk = 0.51788"
   ]
  },
  {
   "cell_type": "code",
   "execution_count": 98,
   "id": "informal-weekend",
   "metadata": {},
   "outputs": [
    {
     "data": {
      "text/plain": [
       "0.5438266666666666"
      ]
     },
     "execution_count": 98,
     "metadata": {},
     "output_type": "execute_result"
    }
   ],
   "source": [
    "np.mean([0.54560, 0.56800, 0.51788])"
   ]
  },
  {
   "cell_type": "code",
   "execution_count": null,
   "id": "empirical-salad",
   "metadata": {},
   "outputs": [],
   "source": [
    "CoralLoss\n",
    "y_pred = (outputs > 0).sum(1)\n",
    "\n",
    "acc = 0.42500, qwk = 0.51928"
   ]
  },
  {
   "cell_type": "markdown",
   "id": "gentle-abuse",
   "metadata": {},
   "source": [
    "## pretrained=false"
   ]
  },
  {
   "cell_type": "code",
   "execution_count": null,
   "id": "informational-jumping",
   "metadata": {},
   "outputs": [],
   "source": [
    "python main.py +experiment=baseline model.encoder=base"
   ]
  },
  {
   "cell_type": "code",
   "execution_count": null,
   "id": "mature-portable",
   "metadata": {},
   "outputs": [],
   "source": [
    "python main.py +experiment=baseline train.num_epochs=10 model.encoder.pretrained=false train.batch_size_train=128 save_checkpoint=true seed=1\n",
    "bs_resnet18_lr:0.0001_bs:128\n",
    "pretrained=false\n",
    "        \n",
    "1: acc = 0.54250, qwk = 0.54130\n",
    " [132   0  33   9   0]\n",
    " [ 15   0  24   7   0]\n",
    " [ 18   0  60  14   0]\n",
    " [  5   0  38  25   0]\n",
    " [  4   0  12   4   0]\n",
    "2: acc = 0.53500, qwk = 0.55065\n"
   ]
  },
  {
   "cell_type": "code",
   "execution_count": null,
   "id": "promising-simpson",
   "metadata": {},
   "outputs": [],
   "source": [
    "python main.py +experiment=label_bin train.num_epochs=10 model.encoder.pretrained=false train.batch_size_train=128 save_checkpoint=true seed=1\n",
    "\n",
    "1: acc = 0.43750, qwk = 0.49902\n",
    " [94 49 31  0  0]\n",
    " [ 6 21 19  0  0]\n",
    " [ 9 23 60  0  0]\n",
    " [ 2  6 60  0  0]\n",
    " [ 2  5 13  0  0]\n",
    "\n",
    "train.num_epochs=20    \n",
    "2: acc = 0.46500, qwk = 0.54580\n",
    " [101  39  34   0   0]\n",
    " [  8  12  26   0   0]\n",
    " [  7  14  71   0   0]\n",
    " [  2   3  61   2   0]\n",
    " [  1   4  15   0   0]\n",
    "\n",
    "train.num_epochs=10\n",
    "optimizer.lr=3e-4\n",
    "acc = 0.40500, qwk = 0.48852\n",
    " [66 61 43  4  0]\n",
    " [ 5  8 32  1  0]\n",
    " [ 8  1 77  6  0]\n",
    " [ 1  2 54 11  0]\n",
    " [ 1  2 15  2  0]\n"
   ]
  },
  {
   "cell_type": "code",
   "execution_count": null,
   "id": "straight-cosmetic",
   "metadata": {},
   "outputs": [],
   "source": [
    "python main.py +experiment=label_bin train.num_epochs=10 model.encoder.pretrained=false train.batch_size_train=128 optimizer.lr=3e-4 save_checkpoint=true seed=1\n"
   ]
  },
  {
   "cell_type": "markdown",
   "id": "tribal-actress",
   "metadata": {},
   "source": [
    "## Simple model"
   ]
  },
  {
   "cell_type": "code",
   "execution_count": null,
   "id": "narrow-conducting",
   "metadata": {},
   "outputs": [],
   "source": [
    "python main.py +experiment=baseline model/encoder=base train.num_epochs=30 save_checkpoint=true seed=1\n",
    "bs_base_lr:0.0001_bs:128\n",
    "\n",
    "1: acc = 0.54500, qwk = 0.54636\n",
    "Inconsistency in predictions: 394/400\n",
    "    \n",
    "2: acc = 0.54500, qwk = 0.56221\n",
    "Inconsistency in predictions: 388/400\n",
    " [131   0  23  20   0]\n",
    " [ 12   0  21  13   0]\n",
    " [ 17   0  49  26   0]\n",
    " [  4   0  26  38   0]\n",
    " [  3   0   4  13   0]\n",
    "\n",
    "3: acc = 0.54750, qwk = 0.56618\n",
    "    \n",
    "    \n",
    "4: acc = 0.54250, qwk = 0.54667"
   ]
  },
  {
   "cell_type": "code",
   "execution_count": 113,
   "id": "choice-botswana",
   "metadata": {},
   "outputs": [
    {
     "data": {
      "text/plain": [
       "0.5517466666666666"
      ]
     },
     "execution_count": 113,
     "metadata": {},
     "output_type": "execute_result"
    }
   ],
   "source": [
    "np.mean([0.54636, 0.56221, 0.54667])"
   ]
  },
  {
   "cell_type": "code",
   "execution_count": null,
   "id": "amateur-valuable",
   "metadata": {},
   "outputs": [],
   "source": [
    "python main.py +experiment=label_bin model/encoder=base train.num_epochs=30 save_checkpoint=true seed=1\n",
    "python main.py +experiment=label_bin train.num_epochs=30 save_checkpoint=true seed=1\n",
    "lb_base_lr:0.0001_bs:128\n",
    "        \n",
    "1: acc = 0.52750, qwk = 0.58684\n",
    "Inconsistency in predictions: 0/400    \n",
    " [126   3  43   2   0]\n",
    " [ 10   2  31   3   0]\n",
    " [ 10   6  70   6   0]\n",
    " [  2   2  51  13   0]\n",
    " [  2   1  11   6   0]]\n",
    "\n",
    "acc = 0.51250, qwk = 0.53363\n",
    "\n",
    "acc = 0.52250, qwk = 0.56444\n",
    "\n",
    "acc = 0.52000, qwk = 0.55422"
   ]
  },
  {
   "cell_type": "code",
   "execution_count": 112,
   "id": "duplicate-singer",
   "metadata": {},
   "outputs": [
    {
     "data": {
      "text/plain": [
       "0.5685000000000001"
      ]
     },
     "execution_count": 112,
     "metadata": {},
     "output_type": "execute_result"
    }
   ],
   "source": [
    "np.mean([0.58684, 0.56444, 0.55422])"
   ]
  },
  {
   "cell_type": "code",
   "execution_count": null,
   "id": "successful-comedy",
   "metadata": {},
   "outputs": [],
   "source": [
    "python main.py +experiment=coral train.num_epochs=30 save_checkpoint=true seed=1\n",
    "\n",
    "python main.py +experiment=coral train.num_epochs=30 optimizer.lr=3e-4 save_checkpoint=true seed=1\n",
    "1: acc = 0.46250, qwk = 0.53814\n",
    "2: acc = 0.48000, qwk = 0.53729\n",
    " [117  17  40   0   0]\n",
    " [  9   6  31   0   0]\n",
    " [  7  16  69   0   0]\n",
    " [  2   4  62   0   0]\n",
    " [  1   5  14   0   0]\n",
    "\n",
    "python main.py +experiment=coral train.num_epochs=30 optimizer.lr=5e-4 save_checkpoint=true seed=1\n",
    "1: acc = 0.46500, qwk = 0.54060\n",
    "2: acc = 0.49000, qwk = 0.55438"
   ]
  },
  {
   "cell_type": "markdown",
   "id": "civil-interview",
   "metadata": {},
   "source": [
    "## + nn.Linear"
   ]
  },
  {
   "cell_type": "code",
   "execution_count": null,
   "id": "distinct-comfort",
   "metadata": {},
   "outputs": [],
   "source": [
    "python main.py +experiment=coral train.num_epochs=30 optimizer.lr=5e-4 save_checkpoint=true seed=1\n",
    "+ nn.Linear\n",
    "\n",
    "acc = 0.48750, qwk = 0.56251\n",
    "acc = 0.48500, qwk = 0.56154"
   ]
  },
  {
   "cell_type": "code",
   "execution_count": null,
   "id": "after-feature",
   "metadata": {},
   "outputs": [],
   "source": [
    "python main.py +experiment=baseline train.num_epochs=30 save_checkpoint=true seed=1\n",
    "+ nn.Linear\n",
    "\n",
    "1: acc = 0.52750, qwk = 0.55729\n",
    "2: acc = 0.53750, qwk = 0.55408"
   ]
  },
  {
   "cell_type": "code",
   "execution_count": null,
   "id": "figured-supervision",
   "metadata": {},
   "outputs": [],
   "source": [
    "python main.py +experiment=label_bin train.num_epochs=30 save_checkpoint=true seed=1\n",
    "\n",
    "1: acc = 0.50750, qwk = 0.55786"
   ]
  },
  {
   "cell_type": "markdown",
   "id": "funky-pottery",
   "metadata": {},
   "source": [
    "## resnext50_32x4d"
   ]
  },
  {
   "cell_type": "code",
   "execution_count": null,
   "id": "golden-insert",
   "metadata": {},
   "outputs": [],
   "source": [
    "resnext50_32x4d\n",
    "python main.py +experiment=label_bin train.num_epochs=5  optimizer.lr=5e-4 model.encoder.model_name=resnext50_32x4d save_checkpoint=true seed=1"
   ]
  },
  {
   "cell_type": "code",
   "execution_count": null,
   "id": "younger-client",
   "metadata": {},
   "outputs": [],
   "source": []
  },
  {
   "cell_type": "code",
   "execution_count": null,
   "id": "regulation-synthetic",
   "metadata": {},
   "outputs": [],
   "source": []
  },
  {
   "cell_type": "markdown",
   "id": "fatty-dietary",
   "metadata": {},
   "source": [
    "# Other"
   ]
  },
  {
   "cell_type": "code",
   "execution_count": null,
   "id": "annoying-pregnancy",
   "metadata": {},
   "outputs": [],
   "source": [
    "tensorboard --logdir=/Users/michaelka/Developer/ml/projects/ord_reg/ord_reg/outputs/2021-11-30/12-05-00/runs\n",
    "tensorboard --logdir=/Users/michaelka/Developer/ml/projects/ord_reg/ord_reg/outputs/runs"
   ]
  },
  {
   "cell_type": "code",
   "execution_count": 78,
   "id": "regulated-symposium",
   "metadata": {},
   "outputs": [],
   "source": [
    "import numpy as np"
   ]
  },
  {
   "cell_type": "code",
   "execution_count": 79,
   "id": "relevant-secret",
   "metadata": {},
   "outputs": [
    {
     "data": {
      "text/plain": [
       "1.6094379124341003"
      ]
     },
     "execution_count": 79,
     "metadata": {},
     "output_type": "execute_result"
    }
   ],
   "source": [
    "-np.log(1/5)"
   ]
  },
  {
   "cell_type": "code",
   "execution_count": 102,
   "id": "ready-culture",
   "metadata": {},
   "outputs": [
    {
     "name": "stdout",
     "output_type": "stream",
     "text": [
      "['adv_inception_v3',\n",
      " 'cait_m36_384',\n",
      " 'cait_m48_448',\n",
      " 'cait_s24_224',\n",
      " 'cait_s24_384',\n",
      " 'cait_s36_384',\n",
      " 'cait_xs24_384',\n",
      " 'cait_xxs24_224',\n",
      " 'cait_xxs24_384',\n",
      " 'cait_xxs36_224',\n",
      " 'cait_xxs36_384',\n",
      " 'coat_lite_mini',\n",
      " 'coat_lite_small',\n",
      " 'coat_lite_tiny',\n",
      " 'coat_mini',\n",
      " 'coat_tiny',\n",
      " 'convit_base',\n",
      " 'convit_small',\n",
      " 'convit_tiny',\n",
      " 'cspdarknet53',\n",
      " 'cspresnet50',\n",
      " 'cspresnext50',\n",
      " 'deit_base_distilled_patch16_224',\n",
      " 'deit_base_distilled_patch16_384',\n",
      " 'deit_base_patch16_224',\n",
      " 'deit_base_patch16_384',\n",
      " 'deit_small_distilled_patch16_224',\n",
      " 'deit_small_patch16_224',\n",
      " 'deit_tiny_distilled_patch16_224',\n",
      " 'deit_tiny_patch16_224',\n",
      " 'densenet121',\n",
      " 'densenet161',\n",
      " 'densenet169',\n",
      " 'densenet201',\n",
      " 'densenetblur121d',\n",
      " 'dla34',\n",
      " 'dla46_c',\n",
      " 'dla46x_c',\n",
      " 'dla60',\n",
      " 'dla60_res2net',\n",
      " 'dla60_res2next',\n",
      " 'dla60x',\n",
      " 'dla60x_c',\n",
      " 'dla102',\n",
      " 'dla102x',\n",
      " 'dla102x2',\n",
      " 'dla169',\n",
      " 'dm_nfnet_f0',\n",
      " 'dm_nfnet_f1',\n",
      " 'dm_nfnet_f2',\n",
      " 'dm_nfnet_f3',\n",
      " 'dm_nfnet_f4',\n",
      " 'dm_nfnet_f5',\n",
      " 'dm_nfnet_f6',\n",
      " 'dpn68',\n",
      " 'dpn68b',\n",
      " 'dpn92',\n",
      " 'dpn98',\n",
      " 'dpn107',\n",
      " 'dpn131',\n",
      " 'eca_nfnet_l0',\n",
      " 'eca_nfnet_l1',\n",
      " 'eca_nfnet_l2',\n",
      " 'ecaresnet26t',\n",
      " 'ecaresnet50d',\n",
      " 'ecaresnet50d_pruned',\n",
      " 'ecaresnet50t',\n",
      " 'ecaresnet101d',\n",
      " 'ecaresnet101d_pruned',\n",
      " 'ecaresnet269d',\n",
      " 'ecaresnetlight',\n",
      " 'efficientnet_b0',\n",
      " 'efficientnet_b1',\n",
      " 'efficientnet_b1_pruned',\n",
      " 'efficientnet_b2',\n",
      " 'efficientnet_b2_pruned',\n",
      " 'efficientnet_b3',\n",
      " 'efficientnet_b3_pruned',\n",
      " 'efficientnet_b4',\n",
      " 'efficientnet_el',\n",
      " 'efficientnet_el_pruned',\n",
      " 'efficientnet_em',\n",
      " 'efficientnet_es',\n",
      " 'efficientnet_es_pruned',\n",
      " 'efficientnet_lite0',\n",
      " 'efficientnetv2_rw_m',\n",
      " 'efficientnetv2_rw_s',\n",
      " 'ens_adv_inception_resnet_v2',\n",
      " 'ese_vovnet19b_dw',\n",
      " 'ese_vovnet39b',\n",
      " 'fbnetc_100',\n",
      " 'gernet_l',\n",
      " 'gernet_m',\n",
      " 'gernet_s',\n",
      " 'ghostnet_100',\n",
      " 'gluon_inception_v3',\n",
      " 'gluon_resnet18_v1b',\n",
      " 'gluon_resnet34_v1b',\n",
      " 'gluon_resnet50_v1b',\n",
      " 'gluon_resnet50_v1c',\n",
      " 'gluon_resnet50_v1d',\n",
      " 'gluon_resnet50_v1s',\n",
      " 'gluon_resnet101_v1b',\n",
      " 'gluon_resnet101_v1c',\n",
      " 'gluon_resnet101_v1d',\n",
      " 'gluon_resnet101_v1s',\n",
      " 'gluon_resnet152_v1b',\n",
      " 'gluon_resnet152_v1c',\n",
      " 'gluon_resnet152_v1d',\n",
      " 'gluon_resnet152_v1s',\n",
      " 'gluon_resnext50_32x4d',\n",
      " 'gluon_resnext101_32x4d',\n",
      " 'gluon_resnext101_64x4d',\n",
      " 'gluon_senet154',\n",
      " 'gluon_seresnext50_32x4d',\n",
      " 'gluon_seresnext101_32x4d',\n",
      " 'gluon_seresnext101_64x4d',\n",
      " 'gluon_xception65',\n",
      " 'gmixer_24_224',\n",
      " 'gmlp_s16_224',\n",
      " 'hardcorenas_a',\n",
      " 'hardcorenas_b',\n",
      " 'hardcorenas_c',\n",
      " 'hardcorenas_d',\n",
      " 'hardcorenas_e',\n",
      " 'hardcorenas_f',\n",
      " 'hrnet_w18',\n",
      " 'hrnet_w18_small',\n",
      " 'hrnet_w18_small_v2',\n",
      " 'hrnet_w30',\n",
      " 'hrnet_w32',\n",
      " 'hrnet_w40',\n",
      " 'hrnet_w44',\n",
      " 'hrnet_w48',\n",
      " 'hrnet_w64',\n",
      " 'ig_resnext101_32x8d',\n",
      " 'ig_resnext101_32x16d',\n",
      " 'ig_resnext101_32x32d',\n",
      " 'ig_resnext101_32x48d',\n",
      " 'inception_resnet_v2',\n",
      " 'inception_v3',\n",
      " 'inception_v4',\n",
      " 'legacy_senet154',\n",
      " 'legacy_seresnet18',\n",
      " 'legacy_seresnet34',\n",
      " 'legacy_seresnet50',\n",
      " 'legacy_seresnet101',\n",
      " 'legacy_seresnet152',\n",
      " 'legacy_seresnext26_32x4d',\n",
      " 'legacy_seresnext50_32x4d',\n",
      " 'legacy_seresnext101_32x4d',\n",
      " 'levit_128',\n",
      " 'levit_128s',\n",
      " 'levit_192',\n",
      " 'levit_256',\n",
      " 'levit_384',\n",
      " 'mixer_b16_224',\n",
      " 'mixer_b16_224_in21k',\n",
      " 'mixer_b16_224_miil',\n",
      " 'mixer_b16_224_miil_in21k',\n",
      " 'mixer_l16_224',\n",
      " 'mixer_l16_224_in21k',\n",
      " 'mixnet_l',\n",
      " 'mixnet_m',\n",
      " 'mixnet_s',\n",
      " 'mixnet_xl',\n",
      " 'mnasnet_100',\n",
      " 'mobilenetv2_100',\n",
      " 'mobilenetv2_110d',\n",
      " 'mobilenetv2_120d',\n",
      " 'mobilenetv2_140',\n",
      " 'mobilenetv3_large_100',\n",
      " 'mobilenetv3_large_100_miil',\n",
      " 'mobilenetv3_large_100_miil_in21k',\n",
      " 'mobilenetv3_rw',\n",
      " 'nasnetalarge',\n",
      " 'nf_regnet_b1',\n",
      " 'nf_resnet50',\n",
      " 'nfnet_l0',\n",
      " 'pit_b_224',\n",
      " 'pit_b_distilled_224',\n",
      " 'pit_s_224',\n",
      " 'pit_s_distilled_224',\n",
      " 'pit_ti_224',\n",
      " 'pit_ti_distilled_224',\n",
      " 'pit_xs_224',\n",
      " 'pit_xs_distilled_224',\n",
      " 'pnasnet5large',\n",
      " 'regnetx_002',\n",
      " 'regnetx_004',\n",
      " 'regnetx_006',\n",
      " 'regnetx_008',\n",
      " 'regnetx_016',\n",
      " 'regnetx_032',\n",
      " 'regnetx_040',\n",
      " 'regnetx_064',\n",
      " 'regnetx_080',\n",
      " 'regnetx_120',\n",
      " 'regnetx_160',\n",
      " 'regnetx_320',\n",
      " 'regnety_002',\n",
      " 'regnety_004',\n",
      " 'regnety_006',\n",
      " 'regnety_008',\n",
      " 'regnety_016',\n",
      " 'regnety_032',\n",
      " 'regnety_040',\n",
      " 'regnety_064',\n",
      " 'regnety_080',\n",
      " 'regnety_120',\n",
      " 'regnety_160',\n",
      " 'regnety_320',\n",
      " 'repvgg_a2',\n",
      " 'repvgg_b0',\n",
      " 'repvgg_b1',\n",
      " 'repvgg_b1g4',\n",
      " 'repvgg_b2',\n",
      " 'repvgg_b2g4',\n",
      " 'repvgg_b3',\n",
      " 'repvgg_b3g4',\n",
      " 'res2net50_14w_8s',\n",
      " 'res2net50_26w_4s',\n",
      " 'res2net50_26w_6s',\n",
      " 'res2net50_26w_8s',\n",
      " 'res2net50_48w_2s',\n",
      " 'res2net101_26w_4s',\n",
      " 'res2next50',\n",
      " 'resmlp_12_224',\n",
      " 'resmlp_12_distilled_224',\n",
      " 'resmlp_24_224',\n",
      " 'resmlp_24_distilled_224',\n",
      " 'resmlp_36_224',\n",
      " 'resmlp_36_distilled_224',\n",
      " 'resmlp_big_24_224',\n",
      " 'resmlp_big_24_224_in22ft1k',\n",
      " 'resmlp_big_24_distilled_224',\n",
      " 'resnest14d',\n",
      " 'resnest26d',\n",
      " 'resnest50d',\n",
      " 'resnest50d_1s4x24d',\n",
      " 'resnest50d_4s2x40d',\n",
      " 'resnest101e',\n",
      " 'resnest200e',\n",
      " 'resnest269e',\n",
      " 'resnet18',\n",
      " 'resnet18d',\n",
      " 'resnet26',\n",
      " 'resnet26d',\n",
      " 'resnet34',\n",
      " 'resnet34d',\n",
      " 'resnet50',\n",
      " 'resnet50d',\n",
      " 'resnet51q',\n",
      " 'resnet101d',\n",
      " 'resnet152d',\n",
      " 'resnet200d',\n",
      " 'resnetblur50',\n",
      " 'resnetrs50',\n",
      " 'resnetrs101',\n",
      " 'resnetrs152',\n",
      " 'resnetrs200',\n",
      " 'resnetrs270',\n",
      " 'resnetrs350',\n",
      " 'resnetrs420',\n",
      " 'resnetv2_50x1_bit_distilled',\n",
      " 'resnetv2_50x1_bitm',\n",
      " 'resnetv2_50x1_bitm_in21k',\n",
      " 'resnetv2_50x3_bitm',\n",
      " 'resnetv2_50x3_bitm_in21k',\n",
      " 'resnetv2_101x1_bitm',\n",
      " 'resnetv2_101x1_bitm_in21k',\n",
      " 'resnetv2_101x3_bitm',\n",
      " 'resnetv2_101x3_bitm_in21k',\n",
      " 'resnetv2_152x2_bit_teacher',\n",
      " 'resnetv2_152x2_bit_teacher_384',\n",
      " 'resnetv2_152x2_bitm',\n",
      " 'resnetv2_152x2_bitm_in21k',\n",
      " 'resnetv2_152x4_bitm',\n",
      " 'resnetv2_152x4_bitm_in21k',\n",
      " 'resnext50_32x4d',\n",
      " 'resnext50d_32x4d',\n",
      " 'resnext101_32x8d',\n",
      " 'rexnet_100',\n",
      " 'rexnet_130',\n",
      " 'rexnet_150',\n",
      " 'rexnet_200',\n",
      " 'selecsls42b',\n",
      " 'selecsls60',\n",
      " 'selecsls60b',\n",
      " 'semnasnet_100',\n",
      " 'seresnet50',\n",
      " 'seresnet152d',\n",
      " 'seresnext26d_32x4d',\n",
      " 'seresnext26t_32x4d',\n",
      " 'seresnext50_32x4d',\n",
      " 'skresnet18',\n",
      " 'skresnet34',\n",
      " 'skresnext50_32x4d',\n",
      " 'spnasnet_100',\n",
      " 'ssl_resnet18',\n",
      " 'ssl_resnet50',\n",
      " 'ssl_resnext50_32x4d',\n",
      " 'ssl_resnext101_32x4d',\n",
      " 'ssl_resnext101_32x8d',\n",
      " 'ssl_resnext101_32x16d',\n",
      " 'swin_base_patch4_window7_224',\n",
      " 'swin_base_patch4_window7_224_in22k',\n",
      " 'swin_base_patch4_window12_384',\n",
      " 'swin_base_patch4_window12_384_in22k',\n",
      " 'swin_large_patch4_window7_224',\n",
      " 'swin_large_patch4_window7_224_in22k',\n",
      " 'swin_large_patch4_window12_384',\n",
      " 'swin_large_patch4_window12_384_in22k',\n",
      " 'swin_small_patch4_window7_224',\n",
      " 'swin_tiny_patch4_window7_224',\n",
      " 'swsl_resnet18',\n",
      " 'swsl_resnet50',\n",
      " 'swsl_resnext50_32x4d',\n",
      " 'swsl_resnext101_32x4d',\n",
      " 'swsl_resnext101_32x8d',\n",
      " 'swsl_resnext101_32x16d',\n",
      " 'tf_efficientnet_b0',\n",
      " 'tf_efficientnet_b0_ap',\n",
      " 'tf_efficientnet_b0_ns',\n",
      " 'tf_efficientnet_b1',\n",
      " 'tf_efficientnet_b1_ap',\n",
      " 'tf_efficientnet_b1_ns',\n",
      " 'tf_efficientnet_b2',\n",
      " 'tf_efficientnet_b2_ap',\n",
      " 'tf_efficientnet_b2_ns',\n",
      " 'tf_efficientnet_b3',\n",
      " 'tf_efficientnet_b3_ap',\n",
      " 'tf_efficientnet_b3_ns',\n",
      " 'tf_efficientnet_b4',\n",
      " 'tf_efficientnet_b4_ap',\n",
      " 'tf_efficientnet_b4_ns',\n",
      " 'tf_efficientnet_b5',\n",
      " 'tf_efficientnet_b5_ap',\n",
      " 'tf_efficientnet_b5_ns',\n",
      " 'tf_efficientnet_b6',\n",
      " 'tf_efficientnet_b6_ap',\n",
      " 'tf_efficientnet_b6_ns',\n",
      " 'tf_efficientnet_b7',\n",
      " 'tf_efficientnet_b7_ap',\n",
      " 'tf_efficientnet_b7_ns',\n",
      " 'tf_efficientnet_b8',\n",
      " 'tf_efficientnet_b8_ap',\n",
      " 'tf_efficientnet_cc_b0_4e',\n",
      " 'tf_efficientnet_cc_b0_8e',\n",
      " 'tf_efficientnet_cc_b1_8e',\n",
      " 'tf_efficientnet_el',\n",
      " 'tf_efficientnet_em',\n",
      " 'tf_efficientnet_es',\n",
      " 'tf_efficientnet_l2_ns',\n",
      " 'tf_efficientnet_l2_ns_475',\n",
      " 'tf_efficientnet_lite0',\n",
      " 'tf_efficientnet_lite1',\n",
      " 'tf_efficientnet_lite2',\n",
      " 'tf_efficientnet_lite3',\n",
      " 'tf_efficientnet_lite4',\n",
      " 'tf_efficientnetv2_b0',\n",
      " 'tf_efficientnetv2_b1',\n",
      " 'tf_efficientnetv2_b2',\n",
      " 'tf_efficientnetv2_b3',\n",
      " 'tf_efficientnetv2_l',\n",
      " 'tf_efficientnetv2_l_in21ft1k',\n",
      " 'tf_efficientnetv2_l_in21k',\n",
      " 'tf_efficientnetv2_m',\n",
      " 'tf_efficientnetv2_m_in21ft1k',\n",
      " 'tf_efficientnetv2_m_in21k',\n",
      " 'tf_efficientnetv2_s',\n",
      " 'tf_efficientnetv2_s_in21ft1k',\n",
      " 'tf_efficientnetv2_s_in21k',\n",
      " 'tf_inception_v3',\n",
      " 'tf_mixnet_l',\n",
      " 'tf_mixnet_m',\n",
      " 'tf_mixnet_s',\n",
      " 'tf_mobilenetv3_large_075',\n",
      " 'tf_mobilenetv3_large_100',\n",
      " 'tf_mobilenetv3_large_minimal_100',\n",
      " 'tf_mobilenetv3_small_075',\n",
      " 'tf_mobilenetv3_small_100',\n",
      " 'tf_mobilenetv3_small_minimal_100',\n",
      " 'tnt_s_patch16_224',\n",
      " 'tresnet_l',\n",
      " 'tresnet_l_448',\n",
      " 'tresnet_m',\n",
      " 'tresnet_m_448',\n",
      " 'tresnet_m_miil_in21k',\n",
      " 'tresnet_xl',\n",
      " 'tresnet_xl_448',\n",
      " 'tv_densenet121',\n",
      " 'tv_resnet34',\n",
      " 'tv_resnet50',\n",
      " 'tv_resnet101',\n",
      " 'tv_resnet152',\n",
      " 'tv_resnext50_32x4d',\n",
      " 'twins_pcpvt_base',\n",
      " 'twins_pcpvt_large',\n",
      " 'twins_pcpvt_small',\n",
      " 'twins_svt_base',\n",
      " 'twins_svt_large',\n",
      " 'twins_svt_small',\n",
      " 'vgg11',\n",
      " 'vgg11_bn',\n",
      " 'vgg13',\n",
      " 'vgg13_bn',\n",
      " 'vgg16',\n",
      " 'vgg16_bn',\n",
      " 'vgg19',\n",
      " 'vgg19_bn',\n",
      " 'visformer_small',\n",
      " 'vit_base_patch16_224',\n",
      " 'vit_base_patch16_224_in21k',\n",
      " 'vit_base_patch16_224_miil',\n",
      " 'vit_base_patch16_224_miil_in21k',\n",
      " 'vit_base_patch16_384',\n",
      " 'vit_base_patch32_224',\n",
      " 'vit_base_patch32_224_in21k',\n",
      " 'vit_base_patch32_384',\n",
      " 'vit_base_r50_s16_224_in21k',\n",
      " 'vit_base_r50_s16_384',\n",
      " 'vit_huge_patch14_224_in21k',\n",
      " 'vit_large_patch16_224',\n",
      " 'vit_large_patch16_224_in21k',\n",
      " 'vit_large_patch16_384',\n",
      " 'vit_large_patch32_224_in21k',\n",
      " 'vit_large_patch32_384',\n",
      " 'vit_large_r50_s32_224',\n",
      " 'vit_large_r50_s32_224_in21k',\n",
      " 'vit_large_r50_s32_384',\n",
      " 'vit_small_patch16_224',\n",
      " 'vit_small_patch16_224_in21k',\n",
      " 'vit_small_patch16_384',\n",
      " 'vit_small_patch32_224',\n",
      " 'vit_small_patch32_224_in21k',\n",
      " 'vit_small_patch32_384',\n",
      " 'vit_small_r26_s32_224',\n",
      " 'vit_small_r26_s32_224_in21k',\n",
      " 'vit_small_r26_s32_384',\n",
      " 'vit_tiny_patch16_224',\n",
      " 'vit_tiny_patch16_224_in21k',\n",
      " 'vit_tiny_patch16_384',\n",
      " 'vit_tiny_r_s16_p8_224',\n",
      " 'vit_tiny_r_s16_p8_224_in21k',\n",
      " 'vit_tiny_r_s16_p8_384',\n",
      " 'wide_resnet50_2',\n",
      " 'wide_resnet101_2',\n",
      " 'xception',\n",
      " 'xception41',\n",
      " 'xception65',\n",
      " 'xception71']\n"
     ]
    }
   ],
   "source": [
    "import timm\n",
    "from pprint import pprint\n",
    "model_names = timm.list_models(pretrained=True)\n",
    "pprint(model_names)"
   ]
  },
  {
   "cell_type": "code",
   "execution_count": 105,
   "id": "sunrise-canal",
   "metadata": {},
   "outputs": [],
   "source": [
    "model_name = 'resnest14d'\n",
    "model = timm.create_model(model_name, pretrained=False)"
   ]
  },
  {
   "cell_type": "code",
   "execution_count": 106,
   "id": "serial-telescope",
   "metadata": {},
   "outputs": [
    {
     "data": {
      "text/plain": [
       "ResNet(\n",
       "  (conv1): Sequential(\n",
       "    (0): Conv2d(3, 32, kernel_size=(3, 3), stride=(2, 2), padding=(1, 1), bias=False)\n",
       "    (1): BatchNorm2d(32, eps=1e-05, momentum=0.1, affine=True, track_running_stats=True)\n",
       "    (2): ReLU(inplace=True)\n",
       "    (3): Conv2d(32, 32, kernel_size=(3, 3), stride=(1, 1), padding=(1, 1), bias=False)\n",
       "    (4): BatchNorm2d(32, eps=1e-05, momentum=0.1, affine=True, track_running_stats=True)\n",
       "    (5): ReLU(inplace=True)\n",
       "    (6): Conv2d(32, 64, kernel_size=(3, 3), stride=(1, 1), padding=(1, 1), bias=False)\n",
       "  )\n",
       "  (bn1): BatchNorm2d(64, eps=1e-05, momentum=0.1, affine=True, track_running_stats=True)\n",
       "  (act1): ReLU(inplace=True)\n",
       "  (maxpool): MaxPool2d(kernel_size=3, stride=2, padding=1, dilation=1, ceil_mode=False)\n",
       "  (layer1): Sequential(\n",
       "    (0): ResNestBottleneck(\n",
       "      (conv1): Conv2d(64, 64, kernel_size=(1, 1), stride=(1, 1), bias=False)\n",
       "      (bn1): BatchNorm2d(64, eps=1e-05, momentum=0.1, affine=True, track_running_stats=True)\n",
       "      (act1): ReLU(inplace=True)\n",
       "      (conv2): SplitAttn(\n",
       "        (conv): Conv2d(64, 128, kernel_size=(3, 3), stride=(1, 1), padding=(1, 1), groups=2, bias=False)\n",
       "        (bn0): BatchNorm2d(128, eps=1e-05, momentum=0.1, affine=True, track_running_stats=True)\n",
       "        (act0): ReLU(inplace=True)\n",
       "        (fc1): Conv2d(64, 32, kernel_size=(1, 1), stride=(1, 1))\n",
       "        (bn1): BatchNorm2d(32, eps=1e-05, momentum=0.1, affine=True, track_running_stats=True)\n",
       "        (act1): ReLU(inplace=True)\n",
       "        (fc2): Conv2d(32, 128, kernel_size=(1, 1), stride=(1, 1))\n",
       "        (rsoftmax): RadixSoftmax()\n",
       "      )\n",
       "      (bn2): Identity()\n",
       "      (act2): Identity()\n",
       "      (conv3): Conv2d(64, 256, kernel_size=(1, 1), stride=(1, 1), bias=False)\n",
       "      (bn3): BatchNorm2d(256, eps=1e-05, momentum=0.1, affine=True, track_running_stats=True)\n",
       "      (act3): ReLU(inplace=True)\n",
       "      (downsample): Sequential(\n",
       "        (0): Identity()\n",
       "        (1): Conv2d(64, 256, kernel_size=(1, 1), stride=(1, 1), bias=False)\n",
       "        (2): BatchNorm2d(256, eps=1e-05, momentum=0.1, affine=True, track_running_stats=True)\n",
       "      )\n",
       "    )\n",
       "  )\n",
       "  (layer2): Sequential(\n",
       "    (0): ResNestBottleneck(\n",
       "      (conv1): Conv2d(256, 128, kernel_size=(1, 1), stride=(1, 1), bias=False)\n",
       "      (bn1): BatchNorm2d(128, eps=1e-05, momentum=0.1, affine=True, track_running_stats=True)\n",
       "      (act1): ReLU(inplace=True)\n",
       "      (conv2): SplitAttn(\n",
       "        (conv): Conv2d(128, 256, kernel_size=(3, 3), stride=(1, 1), padding=(1, 1), groups=2, bias=False)\n",
       "        (bn0): BatchNorm2d(256, eps=1e-05, momentum=0.1, affine=True, track_running_stats=True)\n",
       "        (act0): ReLU(inplace=True)\n",
       "        (fc1): Conv2d(128, 64, kernel_size=(1, 1), stride=(1, 1))\n",
       "        (bn1): BatchNorm2d(64, eps=1e-05, momentum=0.1, affine=True, track_running_stats=True)\n",
       "        (act1): ReLU(inplace=True)\n",
       "        (fc2): Conv2d(64, 256, kernel_size=(1, 1), stride=(1, 1))\n",
       "        (rsoftmax): RadixSoftmax()\n",
       "      )\n",
       "      (bn2): Identity()\n",
       "      (act2): Identity()\n",
       "      (avd_last): AvgPool2d(kernel_size=3, stride=2, padding=1)\n",
       "      (conv3): Conv2d(128, 512, kernel_size=(1, 1), stride=(1, 1), bias=False)\n",
       "      (bn3): BatchNorm2d(512, eps=1e-05, momentum=0.1, affine=True, track_running_stats=True)\n",
       "      (act3): ReLU(inplace=True)\n",
       "      (downsample): Sequential(\n",
       "        (0): AvgPool2d(kernel_size=2, stride=2, padding=0)\n",
       "        (1): Conv2d(256, 512, kernel_size=(1, 1), stride=(1, 1), bias=False)\n",
       "        (2): BatchNorm2d(512, eps=1e-05, momentum=0.1, affine=True, track_running_stats=True)\n",
       "      )\n",
       "    )\n",
       "  )\n",
       "  (layer3): Sequential(\n",
       "    (0): ResNestBottleneck(\n",
       "      (conv1): Conv2d(512, 256, kernel_size=(1, 1), stride=(1, 1), bias=False)\n",
       "      (bn1): BatchNorm2d(256, eps=1e-05, momentum=0.1, affine=True, track_running_stats=True)\n",
       "      (act1): ReLU(inplace=True)\n",
       "      (conv2): SplitAttn(\n",
       "        (conv): Conv2d(256, 512, kernel_size=(3, 3), stride=(1, 1), padding=(1, 1), groups=2, bias=False)\n",
       "        (bn0): BatchNorm2d(512, eps=1e-05, momentum=0.1, affine=True, track_running_stats=True)\n",
       "        (act0): ReLU(inplace=True)\n",
       "        (fc1): Conv2d(256, 128, kernel_size=(1, 1), stride=(1, 1))\n",
       "        (bn1): BatchNorm2d(128, eps=1e-05, momentum=0.1, affine=True, track_running_stats=True)\n",
       "        (act1): ReLU(inplace=True)\n",
       "        (fc2): Conv2d(128, 512, kernel_size=(1, 1), stride=(1, 1))\n",
       "        (rsoftmax): RadixSoftmax()\n",
       "      )\n",
       "      (bn2): Identity()\n",
       "      (act2): Identity()\n",
       "      (avd_last): AvgPool2d(kernel_size=3, stride=2, padding=1)\n",
       "      (conv3): Conv2d(256, 1024, kernel_size=(1, 1), stride=(1, 1), bias=False)\n",
       "      (bn3): BatchNorm2d(1024, eps=1e-05, momentum=0.1, affine=True, track_running_stats=True)\n",
       "      (act3): ReLU(inplace=True)\n",
       "      (downsample): Sequential(\n",
       "        (0): AvgPool2d(kernel_size=2, stride=2, padding=0)\n",
       "        (1): Conv2d(512, 1024, kernel_size=(1, 1), stride=(1, 1), bias=False)\n",
       "        (2): BatchNorm2d(1024, eps=1e-05, momentum=0.1, affine=True, track_running_stats=True)\n",
       "      )\n",
       "    )\n",
       "  )\n",
       "  (layer4): Sequential(\n",
       "    (0): ResNestBottleneck(\n",
       "      (conv1): Conv2d(1024, 512, kernel_size=(1, 1), stride=(1, 1), bias=False)\n",
       "      (bn1): BatchNorm2d(512, eps=1e-05, momentum=0.1, affine=True, track_running_stats=True)\n",
       "      (act1): ReLU(inplace=True)\n",
       "      (conv2): SplitAttn(\n",
       "        (conv): Conv2d(512, 1024, kernel_size=(3, 3), stride=(1, 1), padding=(1, 1), groups=2, bias=False)\n",
       "        (bn0): BatchNorm2d(1024, eps=1e-05, momentum=0.1, affine=True, track_running_stats=True)\n",
       "        (act0): ReLU(inplace=True)\n",
       "        (fc1): Conv2d(512, 256, kernel_size=(1, 1), stride=(1, 1))\n",
       "        (bn1): BatchNorm2d(256, eps=1e-05, momentum=0.1, affine=True, track_running_stats=True)\n",
       "        (act1): ReLU(inplace=True)\n",
       "        (fc2): Conv2d(256, 1024, kernel_size=(1, 1), stride=(1, 1))\n",
       "        (rsoftmax): RadixSoftmax()\n",
       "      )\n",
       "      (bn2): Identity()\n",
       "      (act2): Identity()\n",
       "      (avd_last): AvgPool2d(kernel_size=3, stride=2, padding=1)\n",
       "      (conv3): Conv2d(512, 2048, kernel_size=(1, 1), stride=(1, 1), bias=False)\n",
       "      (bn3): BatchNorm2d(2048, eps=1e-05, momentum=0.1, affine=True, track_running_stats=True)\n",
       "      (act3): ReLU(inplace=True)\n",
       "      (downsample): Sequential(\n",
       "        (0): AvgPool2d(kernel_size=2, stride=2, padding=0)\n",
       "        (1): Conv2d(1024, 2048, kernel_size=(1, 1), stride=(1, 1), bias=False)\n",
       "        (2): BatchNorm2d(2048, eps=1e-05, momentum=0.1, affine=True, track_running_stats=True)\n",
       "      )\n",
       "    )\n",
       "  )\n",
       "  (global_pool): SelectAdaptivePool2d (pool_type=avg, flatten=Flatten(start_dim=1, end_dim=-1))\n",
       "  (fc): Linear(in_features=2048, out_features=1000, bias=True)\n",
       ")"
      ]
     },
     "execution_count": 106,
     "metadata": {},
     "output_type": "execute_result"
    }
   ],
   "source": [
    "model"
   ]
  },
  {
   "cell_type": "code",
   "execution_count": null,
   "id": "proof-responsibility",
   "metadata": {},
   "outputs": [],
   "source": []
  }
 ],
 "metadata": {
  "kernelspec": {
   "display_name": "Python 3",
   "language": "python",
   "name": "python3"
  },
  "language_info": {
   "codemirror_mode": {
    "name": "ipython",
    "version": 3
   },
   "file_extension": ".py",
   "mimetype": "text/x-python",
   "name": "python",
   "nbconvert_exporter": "python",
   "pygments_lexer": "ipython3",
   "version": "3.8.2"
  }
 },
 "nbformat": 4,
 "nbformat_minor": 5
}
